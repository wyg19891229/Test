{
 "cells": [
  {
   "cell_type": "markdown",
   "metadata": {},
   "source": [
    "## **POST** /V1/CMDB/Devices/Attributes\t\n",
    "Call this API to create a customized attribute for certain device types. \n",
    "\n",
    "User can use the SetDeviceAttribute API to set a value for the created attribute.\n",
    "\n",
    "* ## Detail Information\n",
    "\n",
    "**Title** : Create Device Attribute API<br>\n",
    "\n",
    "**Version** : 01/25/2019.\n",
    "\n",
    "**API Server URL** : http(s)://IP address of NetBrain Web API Server/ServicesAPI/API/V1/CMDB/Devices/Attributes\n",
    "\n",
    "**Authentication** : \n",
    "\n",
    "|**Type**|**In**|**Name**|\n",
    "|------|------|------|\n",
    "|Bearer Authentication| Headers | Authentication token | \n",
    "\n",
    "* ## Request body(*required)\n",
    "\n",
    "|**Name**|**Type**|**Description**|\n",
    "|--------|-----------|---------------|\n",
    "|attributeName*|string | The name of the attribute.|\n",
    "|attributeDisplayName*|string | The display name of the attribute in Device Details pane of NetBrain IE system. |\n",
    "|deviceTypeNames|string[] | Specify the device types that the created attribute applies to.  if set to null, it will apply to all device types. See Device Type Name and ID for available device types.  |\n",
    "|dataType*|multiple | The supported data types of the attribute.  |\n",
    "|subDataType|string | Only available for list or table type property.<br>▪ The data type of each value in a list type property.<br>▪ If the data type is table, specify the sub properties of table type property as follows:<br>--name - the sub property name (displayed as a column header).<br>--displayName - the display name (alias) of the sub property (can be null).<br>--dataType - the data type of the sub property.<br>--isKey (bool) - control whether to use the sub property as the key when comparing the table type property. The default value is false.  |\n",
    "|isFullSearch*|bool | Set whether to use the property as an index in full scope search, including extended search and default search.  |\n",
    "\n",
    "**Example**"
   ]
  },
  {
   "cell_type": "code",
   "execution_count": null,
   "metadata": {},
   "outputs": [],
   "source": [
    "body = {\n",
    "          \"attributeName\": \"newAttribute\",\n",
    "          \"attributeDisplayName\": \"New Attribute\",\n",
    "          \"deviceTypeNames\": \"null\",\n",
    "          \"dataType\": \"string\",\n",
    "          \"subDataType\": \"null\",\n",
    "          \"isFullSearch\": True\n",
    "        }"
   ]
  },
  {
   "cell_type": "markdown",
   "metadata": {},
   "source": [
    "* ## Parameters(*required)\n",
    "\n",
    "No Parameters Required.\n",
    "\n",
    "* ## Headers\n",
    "\n",
    "**Data Format Headers**\n",
    "\n",
    "|**Name**|**Type**|**Description**|\n",
    "|------|------|------|\n",
    "| Content-Type | string  | support \"application/json\" |\n",
    "| Accept | string  | support \"application/json\" |\n",
    "\n",
    "**Authorization Headers**\n",
    "\n",
    "|**Name**|**Type**|**Description**|\n",
    "|------|------|------|\n",
    "| token | string  | Authentication token, get from login API. |\n",
    "\n",
    "* ## Response\n",
    "\n",
    "|**Name**|**Type**|**Description**|\n",
    "|------|------|------|\n",
    "|statusCode| integer | Code issued by NetBrain server indicating the execution result.  |\n",
    "|statusDescription| string | The explanation of the status code. |\n",
    "\n",
    "**Example**"
   ]
  },
  {
   "cell_type": "code",
   "execution_count": null,
   "metadata": {},
   "outputs": [],
   "source": [
    "{\n",
    "    \"statusCode\": 790200,\n",
    "    \"statusDescription\": \"Success.\"\n",
    "}"
   ]
  },
  {
   "cell_type": "markdown",
   "metadata": {},
   "source": [
    "* # Full Example"
   ]
  },
  {
   "cell_type": "code",
   "execution_count": 2,
   "metadata": {},
   "outputs": [
    {
     "name": "stdout",
     "output_type": "stream",
     "text": [
      "{'statusCode': 790200, 'statusDescription': 'Success.'}\n"
     ]
    }
   ],
   "source": [
    "# import python modules \n",
    "import requests\n",
    "import time\n",
    "import urllib3\n",
    "import pprint\n",
    "import json\n",
    "urllib3.disable_warnings(urllib3.exceptions.InsecureRequestWarning)\n",
    "\n",
    "# Set the request inputs\n",
    "token = \"855b2da0-306b-4c29-b37f-be09e33e2d02\"\n",
    "nb_url = \"http://192.168.28.79\"\n",
    "\n",
    "# Create device attribute\n",
    "attributeName = \"newAttribute05\"\n",
    "attributeDisplayName = \"New Attribute05\"\n",
    "deviceTypeNames = \"null\"\n",
    "dataType = \"string\"\n",
    "subDataType = \"null\"\n",
    "isFullSearch = True\n",
    "\n",
    "headers = {'Content-Type': 'application/json', 'Accept': 'application/json'}\n",
    "headers[\"Token\"]=token\n",
    "full_url= nb_url + \"/ServicesAPI/API/V1/CMDB/Devices/Attributes\"\n",
    "\n",
    "body={\n",
    "        \"attributeName\": attributeName,\n",
    "        \"attributeDisplayName\": attributeDisplayName,\n",
    "        \"deviceTypeNames\": deviceTypeNames, \n",
    "        \"dataType\": dataType,\n",
    "        \"subDataType\" : subDataType,\n",
    "        \"isFullSearch\": isFullSearch\n",
    "    }\n",
    "\n",
    "try:\n",
    "    response = requests.post(full_url, data=json.dumps(body), headers=headers, verify=False)\n",
    "    if response.status_code == 200:\n",
    "        result = response.json()\n",
    "        print (result)\n",
    "    else:\n",
    "        print (\"Create device attribute failed! - \" + str(response.text))\n",
    "    \n",
    "except Exception as e:\n",
    "    print (str(e))    \n"
   ]
  },
  {
   "cell_type": "markdown",
   "metadata": {},
   "source": [
    "* # cURL Code from Postman"
   ]
  },
  {
   "cell_type": "code",
   "execution_count": null,
   "metadata": {},
   "outputs": [],
   "source": [
    "curl -X POST \\\n",
    "  http://192.168.28.79/ServicesAPI/API/V1/CMDB/Devices/Attributes \\\n",
    "  -H 'Content-Type: application/json' \\\n",
    "  -H 'Postman-Token: acd1f616-72f5-49a9-82be-3f1b7d2f82de' \\\n",
    "  -H 'cache-control: no-cache' \\\n",
    "  -H 'token: e074d192-3f21-4ae8-b5f1-405d240b65ca' \\\n",
    "  -d '{\n",
    "        \"attributeName\": \"attributeName\",\n",
    "        \"attributeDisplayName\": \"attributeDisplayName\",\n",
    "        \"deviceTypeNames\": \"null\", \n",
    "        \"dataType\": \"string\",\n",
    "        \"subDataType\" : \"null\",\n",
    "        \"isFullSearch\": true\n",
    "      }'"
   ]
  },
  {
   "cell_type": "markdown",
   "metadata": {},
   "source": [
    "* # Error Examples:"
   ]
  },
  {
   "cell_type": "code",
   "execution_count": null,
   "metadata": {},
   "outputs": [],
   "source": [
    "###################################################################################################################    \n",
    "\n",
    "\"\"\"Error 1: empty one or some required body parameters\"\"\"\n",
    "\n",
    "Input:\n",
    "    \n",
    "    attributeName = \"\" # empty required body parameters\n",
    "    attributeDisplayName = \"New Attribute\"\n",
    "    deviceTypeNames = \"\" # empty required body parameters\n",
    "    dataType = \"string\"\n",
    "    subDataType = \"null\"\n",
    "    isFullSearch = True\n",
    "    \n",
    "Response:\n",
    "    \n",
    "    \"Create device attribute failed! - \n",
    "        {\n",
    "            \"statusCode\":791000,\n",
    "            \"statusDescription\":\"Null parameter: the parameter 'attributeName' cannot be null.\"\n",
    "        }\"\n",
    " \n",
    "###################################################################################################################    \n",
    "\n",
    "\"\"\"Error 2: duplicate attribute name\"\"\"\n",
    "\n",
    "Input:\n",
    "    \n",
    "    attributeName = \"newAttribute\" # attribute name as newAttribute already exist.\n",
    "    attributeDisplayName = \"New Attribute\"\n",
    "    deviceTypeNames = \"null\" \n",
    "    dataType = \"string\"\n",
    "    subDataType = \"null\"\n",
    "    isFullSearch = True\n",
    "    \n",
    "Response:\n",
    "    \n",
    "    \"Create device attribute failed! - \n",
    "        {\n",
    "            \"statusCode\":791007,\n",
    "            \"statusDescription\":\"attribute newAttribute already exists.\"\n",
    "        }\"\n",
    "    \n",
    "###################################################################################################################    \n",
    "\n",
    "\"\"\"Error 2: two attributes, only different on name\"\"\"\"\"\"\"\"\"\"\"\"\"\"\"\"\"\"\"\"\"\"\"\"\"\"\"\"\"\"\"\"\"\"\"\"\"\"\"\"\"\"\"\"\"\"\"\"\"\"\"\"\"\"\"\"\"\"\"\"\"\"\"\n",
    "\n",
    "Input:\n",
    "    \n",
    "    attributeName = \"newAttribute1\" # only name different from \"newAttribute\"\n",
    "    attributeDisplayName = \"New Attribute\"\n",
    "    deviceTypeNames = \"null\" \n",
    "    dataType = \"string\"\n",
    "    subDataType = \"null\"\n",
    "    isFullSearch = True\n",
    "    \n",
    "Response:\n",
    "    \n",
    "    \"{\n",
    "        \"statusCode\": 790200,\n",
    "        \"statusDescription\": \"Success.\"\n",
    "    }\"\n",
    "        "
   ]
  }
 ],
 "metadata": {
  "kernelspec": {
   "display_name": "Python 3",
   "language": "python",
   "name": "python3"
  },
  "language_info": {
   "codemirror_mode": {
    "name": "ipython",
    "version": 3
   },
   "file_extension": ".py",
   "mimetype": "text/x-python",
   "name": "python",
   "nbconvert_exporter": "python",
   "pygments_lexer": "ipython3",
   "version": "3.7.1"
  }
 },
 "nbformat": 4,
 "nbformat_minor": 2
}
