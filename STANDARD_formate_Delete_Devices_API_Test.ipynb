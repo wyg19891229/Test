{
 "cells": [
  {
   "cell_type": "markdown",
   "metadata": {},
   "source": [
    "## **DELETE** /V1/CMDB/Devices/Attributes/{attributeName}\n",
    "Call this API to delete a device attribute (property) from schema.\n",
    "\n",
    "* ## Detail Information\n",
    "\n",
    "**Title** : Delete Devices API<br>\n",
    "\n",
    "**Version** : 01/28/2019.\n",
    "\n",
    "**API Server URL** : http(s)://IP address of NetBrain Web API Server/ServicesAPI/API/V1/CMDB/Devices\n",
    "\n",
    "**Authentication** : \n",
    "\n",
    "|**Type**|**In**|**Name**|\n",
    "|------|------|------|\n",
    "|Bearer Authentication| Headers | Authentication token | \n",
    "\n",
    "* ## Request body(*required)\n",
    "\n",
    "No request body.\n",
    "**Note**:<br>\n",
    "The latest update to the HTTP 1.1 specification (RFC 7231) explicitly permits an entity body in a DELETE request:<br>\n",
    "***A payload within a DELETE request message has no defined semantics; sending a payload body on a DELETE request might cause some existing implementations to reject the request.***\n",
    "\n",
    "* ## Query Parameters(*required)\n",
    "\n",
    "|**Name**|**Type**|**Description**|\n",
    "|------|------|------|\n",
    "|IPs* | list of string  | Management ip list of the target devices. Optional, IPs and hostnames must have at least one member. |\n",
    "|hostnames* | list of string  | Hostname list of the target devices. Optional, IPs and hostnames must have at least one member. |\n",
    "\n",
    "* ## Headers\n",
    "\n",
    "**Data Format Headers**\n",
    "\n",
    "|**Name**|**Type**|**Description**|\n",
    "|------|------|------|\n",
    "| Content-Type | string  | support \"application/json\" |\n",
    "| Accept | string  | support \"application/json\" |\n",
    "\n",
    "**Authorization Headers**\n",
    "\n",
    "|**Name**|**Type**|**Description**|\n",
    "|------|------|------|\n",
    "| token | string  | Authentication token, get from login API. |\n",
    "\n",
    "* ## Response\n",
    "\n",
    "|**Name**|**Type**|**Description**|\n",
    "|------|------|------|\n",
    "|statusCode| integer | Code issued by NetBrain server indicating the execution result.  |\n",
    "|statusDescription| string | The explanation of the status code. |\n",
    "\n",
    "**Example**"
   ]
  },
  {
   "cell_type": "code",
   "execution_count": null,
   "metadata": {},
   "outputs": [],
   "source": [
    "{\n",
    "    \"statusCode\": 790200,\n",
    "    \"statusDescription\": \"Success.\"\n",
    "}"
   ]
  },
  {
   "cell_type": "markdown",
   "metadata": {},
   "source": [
    "* # Full Example:"
   ]
  },
  {
   "cell_type": "code",
   "execution_count": 4,
   "metadata": {},
   "outputs": [
    {
     "name": "stdout",
     "output_type": "stream",
     "text": [
      "Delete device Failed! - {\"statusCode\":791006,\"statusDescription\":\"device does not exist.\"}\n"
     ]
    }
   ],
   "source": [
    "# import python modules \n",
    "import requests\n",
    "import time\n",
    "import urllib3\n",
    "import pprint\n",
    "import json\n",
    "urllib3.disable_warnings(urllib3.exceptions.InsecureRequestWarning)\n",
    "\n",
    "# Set the request inputs\n",
    "token = \"13c7ed6e-781d-4b22-83e7-b1722de4e31d\"\n",
    "nb_url = \"http://192.168.28.79\"\n",
    "#mgmtIP = [\"123.20.20.20\", \"10.1.12.2\"]\n",
    "mgmtIP = [\"\"]\n",
    "#hostname = [\"R20\", \"Client1\" ]\n",
    "hostname = [\"\"]\n",
    "\n",
    "headers = {'Content-Type': 'application/json', 'Accept': 'application/json'}\n",
    "headers[\"Token\"]=token\n",
    "full_url= nb_url + \"/ServicesAPI/API/V1/CMDB/Devices\"\n",
    "body={\"hostnames\" : hostname, \"IPs\": mgmtIP} # The inputs shouldn't been put in body parameters. \n",
    "    \n",
    "try:\n",
    "    response = requests.delete(full_url, headers=headers, data=json.dumps(body), verify=False)\n",
    "    if response.status_code == 200:\n",
    "        result = response.json()\n",
    "        print (result)\n",
    "    else:\n",
    "        print (\"Delete device Failed! - \" + str(response.text))\n",
    "    \n",
    "except Exception as e:\n",
    "    print (str(e)) "
   ]
  },
  {
   "cell_type": "markdown",
   "metadata": {},
   "source": [
    "* # cURL Code from Postman"
   ]
  },
  {
   "cell_type": "code",
   "execution_count": null,
   "metadata": {},
   "outputs": [],
   "source": [
    "curl -X DELETE \\\n",
    "  http://192.168.28.79/ServicesAPI/API/V1/CMDB/Devices \\\n",
    "  -H 'Content-Type: application/json' \\\n",
    "  -H 'Postman-Token: f444c570-8f18-460e-9e58-2963b7fdbb91' \\\n",
    "  -H 'cache-control: no-cache' \\\n",
    "  -H 'token: 13c7ed6e-781d-4b22-83e7-b1722de4e31d' \\\n",
    "  -d '{\n",
    "        \"hostname\" : [\"R20\", \"Client1\"],\n",
    "        \"IPs\" : [\"123.20.20.20\", \"10.1.12.2\"]\n",
    "    }' \n",
    "    # Again, they shouldn't be parse in as body parameters."
   ]
  },
  {
   "cell_type": "markdown",
   "metadata": {},
   "source": [
    "* # Error Examples:"
   ]
  },
  {
   "cell_type": "code",
   "execution_count": null,
   "metadata": {},
   "outputs": [],
   "source": [
    "###################################################################################################################    \n",
    "\n",
    "\"\"\"Error 1: devices have deen deleted already\"\"\"\n",
    "\n",
    "Input:\n",
    "    \n",
    "        mgmtIP = [\"123.20.20.20\", \"10.1.12.2\"]\n",
    "        hostname = [\"R20\", \"Client1\"]\n",
    "\n",
    "Response:\n",
    "    \n",
    "    \"Delete device Failed! - \n",
    "        {\n",
    "            \"statusCode\":791006,\n",
    "            \"statusDescription\":\"device does not exist.\"\n",
    "        }\"\n",
    "        \n",
    "###################################################################################################################    \n",
    "\n",
    "\"\"\"Error 1: inputs not enough\"\"\"\n",
    "\n",
    "Input:\n",
    "        mgmtIP = [\"123.20.20.20\", \"10.1.12.2\"],\n",
    "        hostname = []# hostname dose not provided\n",
    "        ##OR##\n",
    "        mgmtIP = []# management IP dose not provided\n",
    "        hostname = [\"R20\", \"Client1\"]\n",
    "        ##OR##\n",
    "        mgmtIP = []\n",
    "        hostname = [] # none if them has been provided\n",
    "\n",
    "Response:\n",
    "    \n",
    "    \"Delete device Failed! - \n",
    "        {\n",
    "            \"statusCode\": 791000,\n",
    "            \"statusDescription\": \"Null parameter: the parameter 'IPs and hostnames' cannot be null.\"\n",
    "        }\"\n",
    "        \n",
    "###################################################################################################################    \n",
    "\n",
    "\"\"\"Error 1: Wrong sequence of two lists\"\"\"\n",
    "\n",
    "Input:\n",
    "        hostname = [\"Client1\" , \"R20\"]\n",
    "        mgmtIP = [\"123.20.20.20\", \"10.1.12.2\"] # \"10.1.12.2\" cprresponde to \"Client1\", \"123.20.20.20\" corresponde to \"R20\".\n",
    "         \n",
    "Response:\n",
    "    \n",
    "    \"Delete device Failed! - \n",
    "        {\n",
    "            \"statusCode\": 791000,\n",
    "            \"statusDescription\": \"device does not exist.\"\n",
    "        }\""
   ]
  }
 ],
 "metadata": {
  "kernelspec": {
   "display_name": "Python 3",
   "language": "python",
   "name": "python3"
  },
  "language_info": {
   "codemirror_mode": {
    "name": "ipython",
    "version": 3
   },
   "file_extension": ".py",
   "mimetype": "text/x-python",
   "name": "python",
   "nbconvert_exporter": "python",
   "pygments_lexer": "ipython3",
   "version": "3.7.1"
  }
 },
 "nbformat": 4,
 "nbformat_minor": 2
}
